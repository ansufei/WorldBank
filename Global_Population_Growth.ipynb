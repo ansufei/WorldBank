{
 "cells": [
  {
   "cell_type": "code",
   "execution_count": 2,
   "metadata": {
    "collapsed": true
   },
   "outputs": [],
   "source": [
    "import pandas as pd\n",
    "pop=pd.read_csv('API_SP.POP.TOTL_DS2_en_csv_v2.csv',skiprows=4)"
   ]
  },
  {
   "cell_type": "code",
   "execution_count": 77,
   "metadata": {
    "collapsed": true
   },
   "outputs": [],
   "source": [
    "#print(pop.head())\n",
    "#pop.info()"
   ]
  },
  {
   "cell_type": "code",
   "execution_count": 57,
   "metadata": {},
   "outputs": [
    {
     "name": "stdout",
     "output_type": "stream",
     "text": [
      "Unnamed: 62\n"
     ]
    }
   ],
   "source": [
    "#print(pop.columns[-1])"
   ]
  },
  {
   "cell_type": "markdown",
   "metadata": {},
   "source": [
    "### Verify countries"
   ]
  },
  {
   "cell_type": "code",
   "execution_count": 3,
   "metadata": {
    "collapsed": true
   },
   "outputs": [],
   "source": [
    "countries=pop['Country Name']\n",
    "countries=countries.drop_duplicates()\n",
    "pattern = '^[A-Za-z\\’\\'\\.\\,\\s]*$'\n",
    "mask = countries.str.contains(pattern)\n",
    "mask_inverse = ~mask\n",
    "invalid_countries = list(countries.loc[mask_inverse])\n",
    "#print(invalid_countries)"
   ]
  },
  {
   "cell_type": "code",
   "execution_count": 4,
   "metadata": {
    "collapsed": true
   },
   "outputs": [],
   "source": [
    "#invalid_countries.remove('Guinea-Bissau')\n",
    "#invalid_countries.remove('Timor-Leste')\n",
    "#invalid_countries.remove('Virgin Islands (U.S.)')\n",
    "clean_countries= [x for x in countries if x not in invalid_countries]\n",
    "#print(clean_countries)"
   ]
  },
  {
   "cell_type": "code",
   "execution_count": 5,
   "metadata": {
    "collapsed": true
   },
   "outputs": [],
   "source": [
    "more_invalid_countries=['Upper middle income','Low income','High income','Lower middle income','Not classified','OECD members','IBRD only', 'IDA total', 'IDA blend', 'IDA only', 'Central Europe and the Baltics','Arab World','Caribbean small states','Euro area']\n",
    "clean_countries= [x for x in clean_countries if x not in more_invalid_countries]\n",
    "#print(clean_countries)"
   ]
  },
  {
   "cell_type": "code",
   "execution_count": 8,
   "metadata": {},
   "outputs": [
    {
     "data": {
      "text/plain": [
       "<matplotlib.axes._subplots.AxesSubplot at 0x1c4aaa46f60>"
      ]
     },
     "execution_count": 8,
     "metadata": {},
     "output_type": "execute_result"
    }
   ],
   "source": [
    "#Further remove aggregate countries using visualization\n",
    "import matplotlib.pyplot as plt\n",
    "pop.boxplot(column='2015', by='Country Name')\n",
    "#plt.show()\n",
    "#Make a copy of pop with a clean list of countries\n",
    "pop_clean=pop\n",
    "for country in pop_clean['Country Name']\n",
    "    if country not in clean_countries\n",
    "        #remove entire row"
   ]
  },
  {
   "cell_type": "markdown",
   "metadata": {},
   "source": [
    "### Decide how to drop rows with missing data\n",
    "Check if most missing data comes from small countries, which variable is missing the most, whether mean or median could fill in"
   ]
  },
  {
   "cell_type": "code",
   "execution_count": 130,
   "metadata": {},
   "outputs": [
    {
     "name": "stdout",
     "output_type": "stream",
     "text": [
      "[3, 2, 7]\n"
     ]
    }
   ],
   "source": [
    "x = [3, -1, -10, 2, 7]\n",
    "greater_than_zero = filter(lambda n: (n > 0), x)\n",
    "print(list(greater_than_zero))\n"
   ]
  },
  {
   "cell_type": "code",
   "execution_count": 75,
   "metadata": {
    "collapsed": true
   },
   "outputs": [],
   "source": [
    "mort=pd.read_csv('API_SP.DYN.IMRT.IN_DS2_en_csv_v2.csv',skiprows=4)\n",
    "fert=pd.read_csv('API_SP.DYN.TFRT.IN_DS2_en_csv_v2.csv',skiprows=4)\n",
    "all_frames=[pop,mort,fert]\n",
    "all_elements=list(enumerate(['population','infant_mortality','fertility']))\n",
    "all_clean_frames={}\n",
    "start_elt=0\n",
    "for table in all_frames:\n",
    "    clean_table=table.drop(pop.columns[-2:],1)\n",
    "    clean_table=clean_table.drop(pop.columns[1:4],1)\n",
    "    clean_table=pd.melt(clean_table,id_vars='Country Name')\n",
    "    clean_table.columns='country','year',all_elements[start_elt][1]\n",
    "    start_elt+=1\n",
    "    #print(clean_table.head())"
   ]
  },
  {
   "cell_type": "markdown",
   "metadata": {},
   "source": [
    "pop_clean['Country Name']=pop_clean['Country Name'].astype('category')"
   ]
  },
  {
   "cell_type": "code",
   "execution_count": null,
   "metadata": {
    "collapsed": true
   },
   "outputs": [],
   "source": []
  }
 ],
 "metadata": {
  "kernelspec": {
   "display_name": "Python 3",
   "language": "python",
   "name": "python3"
  },
  "language_info": {
   "codemirror_mode": {
    "name": "ipython",
    "version": 3
   },
   "file_extension": ".py",
   "mimetype": "text/x-python",
   "name": "python",
   "nbconvert_exporter": "python",
   "pygments_lexer": "ipython3",
   "version": "3.6.1"
  },
  "widgets": {
   "application/vnd.jupyter.widget-state+json": {
    "state": {},
    "version_major": 1,
    "version_minor": 0
   }
  }
 },
 "nbformat": 4,
 "nbformat_minor": 2
}
