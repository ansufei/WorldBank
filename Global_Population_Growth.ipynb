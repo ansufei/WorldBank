{
 "cells": [
  {
   "cell_type": "code",
   "execution_count": 67,
   "metadata": {
    "collapsed": true
   },
   "outputs": [],
   "source": [
    "import pandas as pd\n",
    "pop=pd.read_csv('API_SP.POP.TOTL_DS2_en_csv_v2.csv',skiprows=4)"
   ]
  },
  {
   "cell_type": "code",
   "execution_count": 68,
   "metadata": {
    "collapsed": true
   },
   "outputs": [],
   "source": [
    "#print(pop.head())\n",
    "#pop.info()"
   ]
  },
  {
   "cell_type": "code",
   "execution_count": 69,
   "metadata": {
    "collapsed": true
   },
   "outputs": [],
   "source": [
    "#print(pop.columns[-1])"
   ]
  },
  {
   "cell_type": "markdown",
   "metadata": {},
   "source": [
    "### Verify countries"
   ]
  },
  {
   "cell_type": "code",
   "execution_count": 70,
   "metadata": {},
   "outputs": [
    {
     "name": "stdout",
     "output_type": "stream",
     "text": [
      "['East Asia & Pacific (excluding high income)', 'Early-demographic dividend', 'East Asia & Pacific', 'Europe & Central Asia (excluding high income)', 'Europe & Central Asia', 'Guinea-Bissau', 'Heavily indebted poor countries (HIPC)', 'IDA & IBRD total', 'Latin America & Caribbean (excluding high income)', 'Latin America & Caribbean', 'Least developed countries: UN classification', 'Low & middle income', 'Late-demographic dividend', 'St. Martin (French part)', 'Middle East & North Africa', 'Middle East & North Africa (excluding high income)', 'Pre-demographic dividend', 'Post-demographic dividend', 'Sub-Saharan Africa (excluding high income)', 'Sub-Saharan Africa', 'Sint Maarten (Dutch part)', 'East Asia & Pacific (IDA & IBRD countries)', 'Europe & Central Asia (IDA & IBRD countries)', 'Latin America & the Caribbean (IDA & IBRD countries)', 'Timor-Leste', 'Middle East & North Africa (IDA & IBRD countries)', 'South Asia (IDA & IBRD)', 'Sub-Saharan Africa (IDA & IBRD countries)', 'Virgin Islands (U.S.)']\n"
     ]
    }
   ],
   "source": [
    "countries=pop['Country Name']\n",
    "countries=countries.drop_duplicates()\n",
    "pattern = '^[A-Za-z\\’\\'\\.\\,\\s]*$'\n",
    "mask = countries.str.contains(pattern)\n",
    "mask_inverse = ~mask\n",
    "invalid_countries = list(countries.loc[mask_inverse])\n",
    "print(invalid_countries)"
   ]
  },
  {
   "cell_type": "code",
   "execution_count": 71,
   "metadata": {
    "scrolled": true
   },
   "outputs": [
    {
     "name": "stdout",
     "output_type": "stream",
     "text": [
      "['Aruba', 'Afghanistan', 'Angola', 'Albania', 'Andorra', 'Arab World', 'United Arab Emirates', 'Argentina', 'Armenia', 'American Samoa', 'Antigua and Barbuda', 'Australia', 'Austria', 'Azerbaijan', 'Burundi', 'Belgium', 'Benin', 'Burkina Faso', 'Bangladesh', 'Bulgaria', 'Bahrain', 'Bahamas, The', 'Bosnia and Herzegovina', 'Belarus', 'Belize', 'Bermuda', 'Bolivia', 'Brazil', 'Barbados', 'Brunei Darussalam', 'Bhutan', 'Botswana', 'Central African Republic', 'Canada', 'Central Europe and the Baltics', 'Switzerland', 'Channel Islands', 'Chile', 'China', \"Cote d'Ivoire\", 'Cameroon', 'Congo, Dem. Rep.', 'Congo, Rep.', 'Colombia', 'Comoros', 'Cabo Verde', 'Costa Rica', 'Caribbean small states', 'Cuba', 'Curacao', 'Cayman Islands', 'Cyprus', 'Czech Republic', 'Germany', 'Djibouti', 'Dominica', 'Denmark', 'Dominican Republic', 'Algeria', 'Ecuador', 'Egypt, Arab Rep.', 'Euro area', 'Eritrea', 'Spain', 'Estonia', 'Ethiopia', 'European Union', 'Fragile and conflict affected situations', 'Finland', 'Fiji', 'France', 'Faroe Islands', 'Micronesia, Fed. Sts.', 'Gabon', 'United Kingdom', 'Georgia', 'Ghana', 'Gibraltar', 'Guinea', 'Gambia, The', 'Guinea-Bissau', 'Equatorial Guinea', 'Greece', 'Grenada', 'Greenland', 'Guatemala', 'Guam', 'Guyana', 'High income', 'Hong Kong SAR, China', 'Honduras', 'Croatia', 'Haiti', 'Hungary', 'IBRD only', 'IDA total', 'IDA blend', 'Indonesia', 'IDA only', 'Isle of Man', 'India', 'Not classified', 'Ireland', 'Iran, Islamic Rep.', 'Iraq', 'Iceland', 'Israel', 'Italy', 'Jamaica', 'Jordan', 'Japan', 'Kazakhstan', 'Kenya', 'Kyrgyz Republic', 'Cambodia', 'Kiribati', 'St. Kitts and Nevis', 'Korea, Rep.', 'Kuwait', 'Lao PDR', 'Lebanon', 'Liberia', 'Libya', 'St. Lucia', 'Low income', 'Liechtenstein', 'Sri Lanka', 'Lower middle income', 'Lesotho', 'Lithuania', 'Luxembourg', 'Latvia', 'Macao SAR, China', 'Morocco', 'Monaco', 'Moldova', 'Madagascar', 'Maldives', 'Mexico', 'Marshall Islands', 'Middle income', 'Macedonia, FYR', 'Mali', 'Malta', 'Myanmar', 'Montenegro', 'Mongolia', 'Northern Mariana Islands', 'Mozambique', 'Mauritania', 'Mauritius', 'Malawi', 'Malaysia', 'North America', 'Namibia', 'New Caledonia', 'Niger', 'Nigeria', 'Nicaragua', 'Netherlands', 'Norway', 'Nepal', 'Nauru', 'New Zealand', 'OECD members', 'Oman', 'Other small states', 'Pakistan', 'Panama', 'Peru', 'Philippines', 'Palau', 'Papua New Guinea', 'Poland', 'Puerto Rico', 'Korea, Dem. People’s Rep.', 'Portugal', 'Paraguay', 'West Bank and Gaza', 'Pacific island small states', 'French Polynesia', 'Qatar', 'Romania', 'Russian Federation', 'Rwanda', 'South Asia', 'Saudi Arabia', 'Sudan', 'Senegal', 'Singapore', 'Solomon Islands', 'Sierra Leone', 'El Salvador', 'San Marino', 'Somalia', 'Serbia', 'South Sudan', 'Small states', 'Sao Tome and Principe', 'Suriname', 'Slovak Republic', 'Slovenia', 'Sweden', 'Swaziland', 'Seychelles', 'Syrian Arab Republic', 'Turks and Caicos Islands', 'Chad', 'Togo', 'Thailand', 'Tajikistan', 'Turkmenistan', 'Timor-Leste', 'Tonga', 'Trinidad and Tobago', 'Tunisia', 'Turkey', 'Tuvalu', 'Tanzania', 'Uganda', 'Ukraine', 'Upper middle income', 'Uruguay', 'United States', 'Uzbekistan', 'St. Vincent and the Grenadines', 'Venezuela, RB', 'British Virgin Islands', 'Virgin Islands (U.S.)', 'Vietnam', 'Vanuatu', 'World', 'Samoa', 'Kosovo', 'Yemen, Rep.', 'South Africa', 'Zambia', 'Zimbabwe']\n"
     ]
    }
   ],
   "source": [
    "invalid_countries.remove('Guinea-Bissau')\n",
    "invalid_countries.remove('Timor-Leste')\n",
    "invalid_countries.remove('Virgin Islands (U.S.)')\n",
    "clean_countries= [x for x in pop['Country Name'] if x not in invalid_countries]\n",
    "print(clean_countries)"
   ]
  },
  {
   "cell_type": "code",
   "execution_count": 72,
   "metadata": {
    "scrolled": true
   },
   "outputs": [
    {
     "name": "stdout",
     "output_type": "stream",
     "text": [
      "['Aruba', 'Afghanistan', 'Angola', 'Albania', 'Andorra', 'Arab World', 'United Arab Emirates', 'Argentina', 'Armenia', 'American Samoa', 'Antigua and Barbuda', 'Australia', 'Austria', 'Azerbaijan', 'Burundi', 'Belgium', 'Benin', 'Burkina Faso', 'Bangladesh', 'Bulgaria', 'Bahrain', 'Bahamas, The', 'Bosnia and Herzegovina', 'Belarus', 'Belize', 'Bermuda', 'Bolivia', 'Brazil', 'Barbados', 'Brunei Darussalam', 'Bhutan', 'Botswana', 'Central African Republic', 'Canada', 'Central Europe and the Baltics', 'Switzerland', 'Channel Islands', 'Chile', 'China', \"Cote d'Ivoire\", 'Cameroon', 'Congo, Dem. Rep.', 'Congo, Rep.', 'Colombia', 'Comoros', 'Cabo Verde', 'Costa Rica', 'Caribbean small states', 'Cuba', 'Curacao', 'Cayman Islands', 'Cyprus', 'Czech Republic', 'Germany', 'Djibouti', 'Dominica', 'Denmark', 'Dominican Republic', 'Algeria', 'Ecuador', 'Egypt, Arab Rep.', 'Euro area', 'Eritrea', 'Spain', 'Estonia', 'Ethiopia', 'European Union', 'Fragile and conflict affected situations', 'Finland', 'Fiji', 'France', 'Faroe Islands', 'Micronesia, Fed. Sts.', 'Gabon', 'United Kingdom', 'Georgia', 'Ghana', 'Gibraltar', 'Guinea', 'Gambia, The', 'Guinea-Bissau', 'Equatorial Guinea', 'Greece', 'Grenada', 'Greenland', 'Guatemala', 'Guam', 'Guyana', 'High income', 'Hong Kong SAR, China', 'Honduras', 'Croatia', 'Haiti', 'Hungary', 'IBRD only', 'IDA total', 'IDA blend', 'Indonesia', 'IDA only', 'Isle of Man', 'India', 'Not classified', 'Ireland', 'Iran, Islamic Rep.', 'Iraq', 'Iceland', 'Israel', 'Italy', 'Jamaica', 'Jordan', 'Japan', 'Kazakhstan', 'Kenya', 'Kyrgyz Republic', 'Cambodia', 'Kiribati', 'St. Kitts and Nevis', 'Korea, Rep.', 'Kuwait', 'Lao PDR', 'Lebanon', 'Liberia', 'Libya', 'St. Lucia', 'Low income', 'Liechtenstein', 'Sri Lanka', 'Lower middle income', 'Lesotho', 'Lithuania', 'Luxembourg', 'Latvia', 'Macao SAR, China', 'Morocco', 'Monaco', 'Moldova', 'Madagascar', 'Maldives', 'Mexico', 'Marshall Islands', 'Middle income', 'Macedonia, FYR', 'Mali', 'Malta', 'Myanmar', 'Montenegro', 'Mongolia', 'Northern Mariana Islands', 'Mozambique', 'Mauritania', 'Mauritius', 'Malawi', 'Malaysia', 'North America', 'Namibia', 'New Caledonia', 'Niger', 'Nigeria', 'Nicaragua', 'Netherlands', 'Norway', 'Nepal', 'Nauru', 'New Zealand', 'OECD members', 'Oman', 'Other small states', 'Pakistan', 'Panama', 'Peru', 'Philippines', 'Palau', 'Papua New Guinea', 'Poland', 'Puerto Rico', 'Korea, Dem. People’s Rep.', 'Portugal', 'Paraguay', 'West Bank and Gaza', 'Pacific island small states', 'French Polynesia', 'Qatar', 'Romania', 'Russian Federation', 'Rwanda', 'South Asia', 'Saudi Arabia', 'Sudan', 'Senegal', 'Singapore', 'Solomon Islands', 'Sierra Leone', 'El Salvador', 'San Marino', 'Somalia', 'Serbia', 'South Sudan', 'Small states', 'Sao Tome and Principe', 'Suriname', 'Slovak Republic', 'Slovenia', 'Sweden', 'Swaziland', 'Seychelles', 'Syrian Arab Republic', 'Turks and Caicos Islands', 'Chad', 'Togo', 'Thailand', 'Tajikistan', 'Turkmenistan', 'Timor-Leste', 'Tonga', 'Trinidad and Tobago', 'Tunisia', 'Turkey', 'Tuvalu', 'Tanzania', 'Uganda', 'Ukraine', 'Upper middle income', 'Uruguay', 'United States', 'Uzbekistan', 'St. Vincent and the Grenadines', 'Venezuela, RB', 'British Virgin Islands', 'Virgin Islands (U.S.)', 'Vietnam', 'Vanuatu', 'World', 'Samoa', 'Kosovo', 'Yemen, Rep.', 'South Africa', 'Zambia', 'Zimbabwe']\n",
      "0                                                  Aruba\n",
      "1                                            Afghanistan\n",
      "2                                                 Angola\n",
      "3                                                Albania\n",
      "4                                                Andorra\n",
      "5                                             Arab World\n",
      "6                                   United Arab Emirates\n",
      "7                                              Argentina\n",
      "8                                                Armenia\n",
      "9                                         American Samoa\n",
      "10                                   Antigua and Barbuda\n",
      "11                                             Australia\n",
      "12                                               Austria\n",
      "13                                            Azerbaijan\n",
      "14                                               Burundi\n",
      "15                                               Belgium\n",
      "16                                                 Benin\n",
      "17                                          Burkina Faso\n",
      "18                                            Bangladesh\n",
      "19                                              Bulgaria\n",
      "20                                               Bahrain\n",
      "21                                          Bahamas, The\n",
      "22                                Bosnia and Herzegovina\n",
      "23                                               Belarus\n",
      "24                                                Belize\n",
      "25                                               Bermuda\n",
      "26                                               Bolivia\n",
      "27                                                Brazil\n",
      "28                                              Barbados\n",
      "29                                     Brunei Darussalam\n",
      "                             ...                        \n",
      "234    Latin America & the Caribbean (IDA & IBRD coun...\n",
      "235                                          Timor-Leste\n",
      "236    Middle East & North Africa (IDA & IBRD countries)\n",
      "237                                                Tonga\n",
      "238                              South Asia (IDA & IBRD)\n",
      "239            Sub-Saharan Africa (IDA & IBRD countries)\n",
      "240                                  Trinidad and Tobago\n",
      "241                                              Tunisia\n",
      "242                                               Turkey\n",
      "243                                               Tuvalu\n",
      "244                                             Tanzania\n",
      "245                                               Uganda\n",
      "246                                              Ukraine\n",
      "247                                  Upper middle income\n",
      "248                                              Uruguay\n",
      "249                                        United States\n",
      "250                                           Uzbekistan\n",
      "251                       St. Vincent and the Grenadines\n",
      "252                                        Venezuela, RB\n",
      "253                               British Virgin Islands\n",
      "254                                Virgin Islands (U.S.)\n",
      "255                                              Vietnam\n",
      "256                                              Vanuatu\n",
      "257                                                World\n",
      "258                                                Samoa\n",
      "259                                               Kosovo\n",
      "260                                          Yemen, Rep.\n",
      "261                                         South Africa\n",
      "262                                               Zambia\n",
      "263                                             Zimbabwe\n",
      "Name: Country Name, Length: 264, dtype: object\n"
     ]
    }
   ],
   "source": [
    "invalid_countries.append(['Upper middle income','Low income','High income','Lower middle income','Not classified','OECD members','IBRD only', 'IDA total', 'IDA blend', 'IDA only', 'Central Europe and the Baltics','Arab World','Caribbean small states','Euro area','European Union', 'Fragile and conflict affected situations','Small states'])\n",
    "clean_countries= [x for x in pop['Country Name'] if x not in invalid_countries]\n",
    "print(clean_countries)\n",
    "print(pop['Country Name'])"
   ]
  },
  {
   "cell_type": "code",
   "execution_count": 59,
   "metadata": {},
   "outputs": [
    {
     "name": "stdout",
     "output_type": "stream",
     "text": [
      "Index(['Aruba', 'Afghanistan', 'Angola', 'Albania', 'Andorra', 'Arab World',\n",
      "       'United Arab Emirates', 'Argentina', 'Armenia', 'American Samoa',\n",
      "       ...\n",
      "       'Virgin Islands (U.S.)', 'Vietnam', 'Vanuatu', 'World', 'Samoa',\n",
      "       'Kosovo', 'Yemen, Rep.', 'South Africa', 'Zambia', 'Zimbabwe'],\n",
      "      dtype='object', name='Country Name', length=238)\n"
     ]
    }
   ],
   "source": [
    "#Make a copy of pop with a clean list of countries\n",
    "pop_clean=pop[pop['Country Name'].isin(clean_countries)]\n",
    "pop_clean=pop_clean.set_index('Country Name')\n",
    "print(pop_clean.index)"
   ]
  },
  {
   "cell_type": "markdown",
   "metadata": {},
   "source": [
    "### Decide how to drop rows with missing data\n",
    "Check if most missing data comes from small countries, which variable is missing the most, whether mean or median could fill in"
   ]
  },
  {
   "cell_type": "code",
   "execution_count": 130,
   "metadata": {},
   "outputs": [
    {
     "name": "stdout",
     "output_type": "stream",
     "text": [
      "[3, 2, 7]\n"
     ]
    }
   ],
   "source": [
    "x = [3, -1, -10, 2, 7]\n",
    "greater_than_zero = filter(lambda n: (n > 0), x)\n",
    "print(list(greater_than_zero))\n"
   ]
  },
  {
   "cell_type": "code",
   "execution_count": 75,
   "metadata": {
    "collapsed": true
   },
   "outputs": [],
   "source": [
    "mort=pd.read_csv('API_SP.DYN.IMRT.IN_DS2_en_csv_v2.csv',skiprows=4)\n",
    "fert=pd.read_csv('API_SP.DYN.TFRT.IN_DS2_en_csv_v2.csv',skiprows=4)\n",
    "all_frames=[pop,mort,fert]\n",
    "all_elements=list(enumerate(['population','infant_mortality','fertility']))\n",
    "all_clean_frames={}\n",
    "start_elt=0\n",
    "for table in all_frames:\n",
    "    clean_table=table.drop(pop.columns[-2:],1)\n",
    "    clean_table=clean_table.drop(pop.columns[1:4],1)\n",
    "    clean_table=pd.melt(clean_table,id_vars='Country Name')\n",
    "    clean_table.columns='country','year',all_elements[start_elt][1]\n",
    "    start_elt+=1\n",
    "    #print(clean_table.head())"
   ]
  },
  {
   "cell_type": "markdown",
   "metadata": {},
   "source": [
    "pop_clean['Country Name']=pop_clean['Country Name'].astype('category')"
   ]
  },
  {
   "cell_type": "code",
   "execution_count": null,
   "metadata": {
    "collapsed": true
   },
   "outputs": [],
   "source": []
  }
 ],
 "metadata": {
  "kernelspec": {
   "display_name": "Python 3",
   "language": "python",
   "name": "python3"
  },
  "language_info": {
   "codemirror_mode": {
    "name": "ipython",
    "version": 3
   },
   "file_extension": ".py",
   "mimetype": "text/x-python",
   "name": "python",
   "nbconvert_exporter": "python",
   "pygments_lexer": "ipython3",
   "version": "3.6.1"
  },
  "widgets": {
   "application/vnd.jupyter.widget-state+json": {
    "state": {},
    "version_major": 1,
    "version_minor": 0
   }
  }
 },
 "nbformat": 4,
 "nbformat_minor": 2
}
